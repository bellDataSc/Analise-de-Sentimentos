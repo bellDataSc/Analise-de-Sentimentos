# Você pode abrir o notebook no Kaggle


# IMPORTANT: RUN THIS CELL IN ORDER TO IMPORT YOUR KAGGLE DATA SOURCES,
# THEN FEEL FREE TO DELETE THIS CELL.
# NOTE: THIS NOTEBOOK ENVIRONMENT DIFFERS FROM KAGGLE'S PYTHON
# ENVIRONMENT SO THERE MAY BE MISSING LIBRARIES USED BY YOUR
# NOTEBOOK.
import kagglehub
isabelgonalves_categorizao_de_sentimentos_path = kagglehub.dataset_download('isabelgonalves/categorizao-de-sentimentos')
isabelgonalves_roteiros_de_rick_and_morty_path = kagglehub.dataset_download('isabelgonalves/roteiros-de-rick-and-morty')

print('Data source import complete.')
