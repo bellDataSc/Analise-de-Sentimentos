{
  "metadata": {
    "kernelspec": {
      "language": "python",
      "display_name": "Python 3",
      "name": "python3"
    },
    "language_info": {
      "name": "python",
      "version": "3.10.13",
      "mimetype": "text/x-python",
      "codemirror_mode": {
        "name": "ipython",
        "version": 3
      },
      "pygments_lexer": "ipython3",
      "nbconvert_exporter": "python",
      "file_extension": ".py"
    },
    "kaggle": {
      "accelerator": "none",
      "dataSources": [
        {
          "sourceId": 10423415,
          "sourceType": "datasetVersion",
          "datasetId": 6460613
        },
        {
          "sourceId": 10423672,
          "sourceType": "datasetVersion",
          "datasetId": 6460796
        }
      ],
      "dockerImageVersionId": 30746,
      "isInternetEnabled": true,
      "language": "python",
      "sourceType": "notebook",
      "isGpuEnabled": false
    },
    "colab": {
      "name": "Análise de Sentimentos",
      "provenance": [],
      "include_colab_link": true
    }
  },
  "nbformat_minor": 0,
  "nbformat": 4,
  "cells": [
    {
      "cell_type": "markdown",
      "metadata": {
        "id": "view-in-github",
        "colab_type": "text"
      },
      "source": [
        "<a href=\"https://colab.research.google.com/github/bellDataSc/Analise-de-Sentimentos/blob/main/An%C3%A1lise_de_Sentimentos.ipynb\" target=\"_parent\"><img src=\"https://colab.research.google.com/assets/colab-badge.svg\" alt=\"Open In Colab\"/></a>"
      ]
    },
    {
      "source": [
        "# IMPORTANT: RUN THIS CELL IN ORDER TO IMPORT YOUR KAGGLE DATA SOURCES,\n",
        "# THEN FEEL FREE TO DELETE THIS CELL.\n",
        "# NOTE: THIS NOTEBOOK ENVIRONMENT DIFFERS FROM KAGGLE'S PYTHON\n",
        "# ENVIRONMENT SO THERE MAY BE MISSING LIBRARIES USED BY YOUR\n",
        "# NOTEBOOK.\n",
        "import kagglehub\n",
        "isabelgonalves_categorizao_de_sentimentos_path = kagglehub.dataset_download('isabelgonalves/categorizao-de-sentimentos')\n",
        "isabelgonalves_roteiros_de_rick_and_morty_path = kagglehub.dataset_download('isabelgonalves/roteiros-de-rick-and-morty')\n",
        "\n",
        "print('Data source import complete.')\n"
      ],
      "metadata": {
        "id": "gy8GBnpTDQNT"
      },
      "cell_type": "code",
      "outputs": [],
      "execution_count": null
    },
    {
      "cell_type": "markdown",
      "source": [
        "![cov](https://substackcdn.com/image/fetch/w_1456,c_limit,f_webp,q_auto:good,fl_progressive:steep/https%3A%2F%2Fsubstack-post-media.s3.amazonaws.com%2Fpublic%2Fimages%2F6e963c60-36c8-4503-a2ba-578a03ae07cf_1333x750.jpeg)\n",
        "\n",
        "<h1>Análise de Sentimentos com os Scripts de Rick and Morty</h1>\n",
        "\n",
        "# Introdução\n",
        "\n",
        "Este conjunto de dados **[CATEGORIZAÇÃO DE SENTIMENTOS]** é ideal para realizar análises de texto e investigações de sentimentos. Pode ser explorado em projetos de processamento de linguagem natural (NLP), mineração de dados textuais e outras abordagens analíticas envolvendo roteiros e diálogos.\n",
        "\n",
        "Conjuntos de léxicos **[\"bing\", \"nrc\", e \"afinn\"]**, presentes no dataset como arquivos CSV, para análise de sentimentos geralmente são criados a partir de estudos linguísticos, corpus de texto anotados manualmente ou gerados por meio de algoritmos de aprendizado de máquina. Eles são disponibilizados por universidades, pesquisadores, e projetos de software livre. Aqui estão alguns exemplos de fontes populares para esses conjuntos:\n",
        "\n",
        "Léxicos Integrados em Bibliotecas e Pacotes\n",
        "tidytext (R): Oferece os léxicos \"bing\", \"nrc\", e \"afinn\" prontos para uso. Eles são amplamente utilizados para análises de sentimento e emoção. Exemplo: get_sentiments(\"bing\")\n",
        "\n",
        "\n",
        "\n",
        "\n",
        "Antes de começar, deixo aqui algumas inspirações geek :)\n",
        "\n",
        "\n",
        "<div class=\"alert alert-block alert-success\">  \n",
        "<p>1. <a link=https://www.kaggle.com/xvivancos/analyzing-the-lord-of-the-rings-data/data>Senhor dos Aneis</a></p>\n",
        "<p>2. <a link=https://www.kaggle.com/xvivancos/analyzing-star-wars-movie-scripts>Star Wars scripts</a>.</p>\n",
        "    \n",
        "\n",
        "</div>\n",
        "\n",
        "\n",
        "# 1. Data 📁\n",
        "\n",
        "## 1.1 Bibliotecas 📚\n",
        "Primeiro, *carregamos as bibliotecas* e obtemos os dados. Os dados foram pré-processados ​​de antemão de arquivos txt para um dataframe abrangente que contém 6 colunas:\n",
        "\n",
        "  * `Index`\n",
        "  * `Season No.`\n",
        "  * `Episode No.`\n",
        "  * `Episode Name`\n",
        "  * `Character Name`\n",
        "  * `Dialog`"
      ],
      "metadata": {
        "id": "4WYXmvngDQNV"
      }
    },
    {
      "cell_type": "code",
      "source": [
        "import pandas as pd\n",
        "import plotly.graph_objects as go\n",
        "\n",
        "# Ler os dados dos scripts\n",
        "scripts = pd.read_csv(\"../input/roteiros-de-rick-and-morty/RickAndMortyScripts.csv\", encoding='utf-8')\n",
        "\n",
        "# Ler os lexicons para classificação de sentimentos\n",
        "bing = pd.read_csv(\"../input/categorizao-de-sentimentos/Bing.csv\", encoding='utf-8')\n",
        "nrc = pd.read_csv(\"../input/categorizao-de-sentimentos/NRC.csv\", encoding='utf-8')\n",
        "afinn = pd.read_csv(\"../input/categorizao-de-sentimentos/Afinn.csv\", encoding='ISO-8859-1')  # Alterada a codificação para resolver o erro\n",
        "\n",
        "# Renomear as colunas\n",
        "scripts = scripts.rename(columns={\n",
        "    \"index\": \"Index\",\n",
        "    \"season no.\": \"Season.No\",\n",
        "    \"episode no.\": \"Episode.No\",\n",
        "    \"episode name\": \"Episode.Name\",\n",
        "    \"name\": \"Character.Name\",\n",
        "    \"line\": \"Dialog\"\n",
        "})\n",
        "\n",
        "\n",
        "import plotly.io as pio\n",
        "pio.renderers.default = 'notebook'  # Ou tente 'png' se o notebook não renderizar\n",
        "\n",
        "from IPython.display import display\n",
        "display(scripts.head(10))  # Exibir as primeiras 10 linhas como uma tabela\n",
        "\n"
      ],
      "metadata": {
        "trusted": true,
        "execution": {
          "iopub.status.busy": "2025-03-05T19:24:35.304963Z",
          "iopub.execute_input": "2025-03-05T19:24:35.305962Z",
          "iopub.status.idle": "2025-03-05T19:24:36.05892Z",
          "shell.execute_reply.started": "2025-03-05T19:24:35.30593Z",
          "shell.execute_reply": "2025-03-05T19:24:36.057872Z"
        },
        "id": "9t_lxTbkDQNX"
      },
      "outputs": [],
      "execution_count": null
    },
    {
      "cell_type": "markdown",
      "source": [
        "## Nuvem de Palavras dos Diálogos de Rick and Morty"
      ],
      "metadata": {
        "id": "shdSqtfEDQNY"
      }
    },
    {
      "cell_type": "code",
      "source": [
        "import pandas as pd\n",
        "import plotly.graph_objects as go\n",
        "\n",
        "# Ler os dados dos scripts\n",
        "scripts = pd.read_csv(\"../input/roteiros-de-rick-and-morty/RickAndMortyScripts.csv\", encoding='utf-8')\n",
        "\n",
        "# Ler os lexicons para classificação de sentimentos\n",
        "bing = pd.read_csv(\"../input/categorizao-de-sentimentos/Bing.csv\", encoding='utf-8')\n",
        "nrc = pd.read_csv(\"../input/categorizao-de-sentimentos/NRC.csv\", encoding='utf-8')\n",
        "afinn = pd.read_csv(\"../input/categorizao-de-sentimentos/Afinn.csv\", encoding='ISO-8859-1')  # Alterada a codificação para resolver o erro\n",
        "\n",
        "# Renomear as colunas\n",
        "scripts = scripts.rename(columns={\n",
        "    \"index\": \"Index\",\n",
        "    \"season no.\": \"Season.No\",\n",
        "    \"episode no.\": \"Episode.No\",\n",
        "    \"episode name\": \"Episode.Name\",\n",
        "    \"name\": \"Character.Name\",\n",
        "    \"line\": \"Dialog\"\n",
        "})\n",
        "\n",
        "\n",
        "\n",
        "\n",
        "from wordcloud import WordCloud\n",
        "import matplotlib.pyplot as plt\n",
        "\n",
        "# Concatenar todos os diálogos em um único texto\n",
        "all_dialogs = \" \".join(scripts[\"Dialog\"].dropna())\n",
        "\n",
        "# Criar a nuvem de palavras\n",
        "wordcloud = WordCloud(width=800, height=400, background_color=\"black\", colormap=\"coolwarm\").generate(all_dialogs)\n",
        "\n",
        "# Exibir a nuvem de palavras\n",
        "plt.figure(figsize=(12, 6))\n",
        "plt.imshow(wordcloud, interpolation=\"bilinear\")\n",
        "plt.axis(\"off\")\n",
        "plt.title(\"Nuvem de Palavras dos Diálogos de Rick and Morty\", fontsize=14)\n",
        "plt.show()\n"
      ],
      "metadata": {
        "trusted": true,
        "execution": {
          "iopub.status.busy": "2025-03-05T19:24:39.75783Z",
          "iopub.execute_input": "2025-03-05T19:24:39.75867Z",
          "iopub.status.idle": "2025-03-05T19:24:41.188442Z",
          "shell.execute_reply.started": "2025-03-05T19:24:39.758631Z",
          "shell.execute_reply": "2025-03-05T19:24:41.18736Z"
        },
        "id": "C1ZY1rcUDQNZ"
      },
      "outputs": [],
      "execution_count": null
    },
    {
      "cell_type": "markdown",
      "source": [
        "# 1. Análise de Sentimentos por Epsodio\n",
        "Usando uma analise simples para aexemplo.\n",
        "\n",
        "No proximo grafico inclio os dataset presente no notebook."
      ],
      "metadata": {
        "id": "ZfXMtMCFDQNZ"
      }
    },
    {
      "cell_type": "markdown",
      "source": [
        "## Primeiro exemplo de grafico de semtimentos por episodio\n",
        "\n"
      ],
      "metadata": {
        "id": "3ozjs6EIDQNZ"
      }
    },
    {
      "cell_type": "code",
      "source": [
        "import matplotlib.pyplot as plt\n",
        "import numpy as np\n",
        "\n",
        "# Dados dos roteiros (Exemplo fictício de dados de episódios e sentimentos)\n",
        "episodios = [\n",
        "    {\"season\": 1, \"episode\": 1, \"name\": \"Pilot\", \"sentimento\": 2.5},\n",
        "    {\"season\": 1, \"episode\": 2, \"name\": \"Lawn Mower Dog\", \"sentimento\": -1.2},\n",
        "    {\"season\": 1, \"episode\": 3, \"name\": \"Anatomy Park\", \"sentimento\": 1.8},\n",
        "    {\"season\": 1, \"episode\": 4, \"name\": \"M. Night Shaym-Aliens!\", \"sentimento\": 0.0},\n",
        "    {\"season\": 2, \"episode\": 1, \"name\": \"A Rickle in Time\", \"sentimento\": -3.1},\n",
        "    {\"season\": 2, \"episode\": 2, \"name\": \"Mortynight Run\", \"sentimento\": 3.2},\n",
        "    {\"season\": 2, \"episode\": 3, \"name\": \"Auto Erotic Assimilation\", \"sentimento\": 1.0},\n",
        "    {\"season\": 2, \"episode\": 4, \"name\": \"Total Rickall\", \"sentimento\": -2.5},\n",
        "    {\"season\": 3, \"episode\": 1, \"name\": \"The Ricklantis Mixup\", \"sentimento\": 4.5},\n",
        "    {\"season\": 3, \"episode\": 2, \"name\": \"Rickmurai Jack\", \"sentimento\": -4.0},\n",
        "]\n",
        "\n",
        "# Preparar os dados para o gráfico\n",
        "episodios_ordenados = sorted(episodios, key=lambda x: (x['season'], x['episode']))  # Ordenar por temporada e episódio\n",
        "episodios_nomes = [ep['name'] for ep in episodios_ordenados]\n",
        "episodios_sentimentos = [ep['sentimento'] for ep in episodios_ordenados]\n",
        "\n",
        "# Criar o gráfico\n",
        "plt.figure(figsize=(12, 6))\n",
        "plt.plot(episodios_nomes, episodios_sentimentos, marker='o', color='b', linestyle='-', linewidth=2, markersize=8)\n",
        "\n",
        "# Adicionar título e rótulos aos eixos\n",
        "plt.title(\"Evolução dos Sentimentos nos Episódios de Rick and Morty\", fontsize=16)\n",
        "plt.xlabel(\"Episódio\", fontsize=12)\n",
        "plt.ylabel(\"Sentimento Médio\", fontsize=12)\n",
        "\n",
        "# Exibir valores nos pontos do gráfico\n",
        "for i, sentimento in enumerate(episodios_sentimentos):\n",
        "    plt.text(episodios_nomes[i], sentimento, f'{sentimento:.1f}', ha='center', va='bottom', fontsize=10)\n",
        "\n",
        "# Melhorar o layout para o gráfico\n",
        "plt.xticks(rotation=45, ha='right', fontsize=10)\n",
        "plt.grid(True)\n",
        "\n",
        "# Exibir o gráfico\n",
        "plt.tight_layout()\n",
        "plt.show()\n"
      ],
      "metadata": {
        "trusted": true,
        "execution": {
          "iopub.status.busy": "2025-03-05T19:24:46.428579Z",
          "iopub.execute_input": "2025-03-05T19:24:46.429061Z",
          "iopub.status.idle": "2025-03-05T19:24:46.839037Z",
          "shell.execute_reply.started": "2025-03-05T19:24:46.429031Z",
          "shell.execute_reply": "2025-03-05T19:24:46.837868Z"
        },
        "id": "4aKcW_alDQNa"
      },
      "outputs": [],
      "execution_count": null
    },
    {
      "cell_type": "markdown",
      "source": [
        "# Evolução dos Sentimentos por Temporada\n",
        "\n",
        "## Explicação do código\n",
        "\n",
        "Leitura dos dados CSV: A função read_csv é utilizada para ler os arquivos CSV de scripts e lexicons. Ela usa a codificação correta para lidar com caracteres especiais.\n",
        "\n",
        "Função de Sentimento: A função get_sentiment_from_lexicon recebe uma palavra e um léxico (como o Afinn) e retorna o valor de sentimento associado a essa palavra.\n",
        "\n",
        "Processamento do Roteiro: O código percorre cada linha de diálogo, divide o texto em palavras e calcula o sentimento médio da linha. O resultado é armazenado em uma nova chave sentiment no dicionário de cada script.\n",
        "\n",
        "Cálculo de Sentimento Médio por Temporada: O código agrupa os diálogos por temporada e calcula o sentimento médio para cada temporada.\n",
        "\n",
        "Visualização: O gráfico é gerado usando matplotlib, mostrando a evolução do sentimento médio por temporada.\n",
        "\n",
        "## Como funciona o gráfico:\n",
        "O eixo x representa as temporadas.\n",
        "\n",
        "O eixo y mostra o sentimento médio calculado para cada temporada.\n",
        "\n",
        "As linhas e pontos são desenhados para visualizar a evolução do sentimento.\n"
      ],
      "metadata": {
        "id": "vPm4WBNSDQNa"
      }
    },
    {
      "cell_type": "code",
      "source": [
        "import csv\n",
        "import matplotlib.pyplot as plt\n",
        "\n",
        "# Função para ler os dados CSV\n",
        "def read_csv(file_path, encoding='utf-8'):\n",
        "    with open(file_path, encoding=encoding) as f:\n",
        "        reader = csv.DictReader(f)\n",
        "        return list(reader)\n",
        "\n",
        "# Ler os lexicons para classificação de sentimentos\n",
        "bing = read_csv(\"../input/categorizao-de-sentimentos/Bing.csv\")\n",
        "nrc = read_csv(\"../input/categorizao-de-sentimentos/NRC.csv\")\n",
        "afinn = read_csv(\"../input/categorizao-de-sentimentos/Afinn.csv\", encoding='ISO-8859-1')\n",
        "\n",
        "# Ler os dados dos scripts de Rick and Morty\n",
        "scripts = read_csv(\"../input/roteiros-de-rick-and-morty/RickAndMortyScripts.csv\")\n",
        "\n",
        "# Função para procurar o valor de sentimento no léxico Afinn\n",
        "def get_sentiment_from_lexicon(word, lexicon):\n",
        "    for entry in lexicon:\n",
        "        if entry['word'] == word:\n",
        "            return float(entry['value'])  # Valor do sentimento no Afinn\n",
        "    return 0  # Caso a palavra não seja encontrada, retorna 0 (sentimento neutro)\n",
        "\n",
        "# Adicionar coluna de sentimento no dataset dos scripts com o léxico Afinn\n",
        "for script in scripts:\n",
        "    # Extrair as palavras do diálogo (dividir por espaço)\n",
        "    words = script['line'].split()\n",
        "    sentiment_total = 0\n",
        "    word_count = 0\n",
        "\n",
        "    for word in words:\n",
        "        sentiment = get_sentiment_from_lexicon(word, afinn)\n",
        "        sentiment_total += sentiment\n",
        "        word_count += 1\n",
        "\n",
        "    # Calcular o sentimento médio da linha\n",
        "    if word_count > 0:\n",
        "        script['sentiment'] = sentiment_total / word_count\n",
        "    else:\n",
        "        script['sentiment'] = 0\n",
        "\n",
        "# Organizar os dados por temporada\n",
        "sentiments_by_season = {}\n",
        "for script in scripts:\n",
        "    season = int(script['season no.'])\n",
        "    if season not in sentiments_by_season:\n",
        "        sentiments_by_season[season] = []\n",
        "    sentiments_by_season[season].append(script['sentiment'])\n",
        "\n",
        "# Calcular o sentimento médio por temporada\n",
        "avg_sentiments_by_season = {season: sum(sentiments) / len(sentiments)\n",
        "                            for season, sentiments in sentiments_by_season.items()}\n",
        "\n",
        "# Criar o gráfico com matplotlib\n",
        "plt.figure(figsize=(10, 6))\n",
        "plt.plot(avg_sentiments_by_season.keys(), avg_sentiments_by_season.values(), marker='o', color='b', linestyle='-', linewidth=2, markersize=8)\n",
        "\n",
        "# Ajustar o gráfico\n",
        "plt.title(\"Evolução dos Sentimentos por Temporada\", fontsize=16)\n",
        "plt.xlabel(\"Temporada\", fontsize=12)\n",
        "plt.ylabel(\"Sentimento Médio\", fontsize=12)\n",
        "plt.xticks(list(avg_sentiments_by_season.keys()), ['Temporada {}'.format(i) for i in avg_sentiments_by_season.keys()])\n",
        "plt.grid(True)\n",
        "plt.tight_layout()\n",
        "\n",
        "# Exibir o gráfico\n",
        "plt.show()\n",
        "\n"
      ],
      "metadata": {
        "trusted": true,
        "execution": {
          "iopub.status.busy": "2025-03-05T19:24:54.820291Z",
          "iopub.execute_input": "2025-03-05T19:24:54.820631Z",
          "iopub.status.idle": "2025-03-05T19:24:59.14386Z",
          "shell.execute_reply.started": "2025-03-05T19:24:54.820606Z",
          "shell.execute_reply": "2025-03-05T19:24:59.142677Z"
        },
        "id": "dSiQ_VZ4DQNa"
      },
      "outputs": [],
      "execution_count": null
    },
    {
      "cell_type": "markdown",
      "source": [
        "## Para uma análise mais sofisticada"
      ],
      "metadata": {
        "id": "w-MUQ6tUDQNb"
      }
    },
    {
      "cell_type": "markdown",
      "source": [
        "Para uma análise mais sofisticada, podemos aprimorar o gráfico com visualizações mais detalhadas, como gráficos de dispersão, com diferentes cores e tamanhos para representar a intensidade dos sentimentos, ou até mesmo gráficos de violino ou boxplot para comparar a distribuição dos sentimentos entre diferentes episódios.\n",
        "\n",
        "Aqui está um exemplo de como fazer isso utilizando matplotlib e seaborn, com um gráfico de violino e dispersão para uma análise mais profunda:\n",
        "\n",
        "## Explicação:\n",
        "\n",
        "## Gráfico de violino:\n",
        "\n",
        "Mostra a distribuição dos sentimentos dentro de cada temporada. Ele nos dá uma visão sobre a dispersão e a presença de valores extremos.\n",
        "\n",
        "## Gráfico de dispersão:\n",
        "\n",
        "Apresenta como os sentimentos variam ao longo dos episódios, coloridos por temporada. Ele também destaca a relação entre episódio e intensidade do sentimento."
      ],
      "metadata": {
        "id": "uGFyjvqSDQNb"
      }
    },
    {
      "cell_type": "code",
      "source": [
        "import matplotlib.pyplot as plt\n",
        "import seaborn as sns\n",
        "import numpy as np\n",
        "\n",
        "# Simular a estrutura dos dados como já feito\n",
        "# Vamos juntar a temporada com o sentimento para análises mais detalhadas\n",
        "data = []\n",
        "\n",
        "for season in range(1, 4):\n",
        "    for episode in range(1, 11):\n",
        "        for line in [\"dialog1\", \"dialog2\", \"dialog3\"]:  # Supondo que existam diferentes falas\n",
        "            sentiment_value = np.random.uniform(-5, 5)  # Sentimento simulado para exemplo\n",
        "            data.append([season, episode, line, sentiment_value])\n",
        "\n",
        "# Transformar os dados em um formato adequado para o gráfico\n",
        "import pandas as pd\n",
        "df_sentiments = pd.DataFrame(data, columns=[\"Season\", \"Episode\", \"Line\", \"Sentiment\"])\n",
        "\n",
        "# Gráfico de violino para análise da distribuição dos sentimentos por temporada\n",
        "plt.figure(figsize=(12, 6))\n",
        "sns.violinplot(x=\"Season\", y=\"Sentiment\", data=df_sentiments, inner=\"quart\", palette=\"coolwarm\")\n",
        "plt.title(\"Distribuição dos Sentimentos por Temporada\", fontsize=16)\n",
        "plt.xlabel(\"Temporada\", fontsize=12)\n",
        "plt.ylabel(\"Sentimento\", fontsize=12)\n",
        "plt.show()\n",
        "\n",
        "# Gráfico de dispersão para ver a relação entre episódios, temporada e sentimento\n",
        "plt.figure(figsize=(12, 6))\n",
        "sns.scatterplot(x=\"Episode\", y=\"Sentiment\", hue=\"Season\", data=df_sentiments, palette=\"coolwarm\", s=100, alpha=0.7)\n",
        "plt.title(\"Sentimento por Episódio e Temporada\", fontsize=16)\n",
        "plt.xlabel(\"Episódio\", fontsize=12)\n",
        "plt.ylabel(\"Sentimento\", fontsize=12)\n",
        "plt.legend(title=\"Temporada\")\n",
        "plt.show()\n"
      ],
      "metadata": {
        "trusted": true,
        "execution": {
          "iopub.status.busy": "2025-03-05T19:25:07.286116Z",
          "iopub.execute_input": "2025-03-05T19:25:07.286478Z",
          "iopub.status.idle": "2025-03-05T19:25:08.664238Z",
          "shell.execute_reply.started": "2025-03-05T19:25:07.28645Z",
          "shell.execute_reply": "2025-03-05T19:25:08.663232Z"
        },
        "id": "Cykmsgy3DQNb"
      },
      "outputs": [],
      "execution_count": null
    },
    {
      "cell_type": "markdown",
      "source": [
        "## 📊 1. Evolução do Sentimento por Episódio (Afinn)\n",
        "\n",
        "📌 Gráfico de linha mostrando a média do sentimento dos episódios ao longo das temporadas."
      ],
      "metadata": {
        "id": "GWLbgu-oDQNb"
      }
    },
    {
      "cell_type": "code",
      "source": [
        "import csv\n",
        "import matplotlib.pyplot as plt\n",
        "import seaborn as sns\n",
        "from collections import defaultdict\n",
        "\n",
        "# Carregar os datasets\n",
        "with open(\"../input/roteiros-de-rick-and-morty/RickAndMortyScripts.csv\", encoding=\"utf-8\") as f:\n",
        "    scripts = list(csv.DictReader(f))\n",
        "\n",
        "with open(\"../input/categorizao-de-sentimentos/Afinn.csv\", encoding=\"ISO-8859-1\") as f:\n",
        "    afinn = list(csv.DictReader(f))\n",
        "\n",
        "# Criar dicionário do léxico Afinn\n",
        "afinn_dict = {linha[\"word\"]: int(linha[\"value\"]) for linha in afinn}\n",
        "\n",
        "# Calcular sentimento médio por episódio\n",
        "sentimentos_por_episodio = defaultdict(list)\n",
        "\n",
        "for linha in scripts:\n",
        "    episodio = (linha[\"season no.\"], linha[\"episode no.\"])\n",
        "    palavras = linha[\"line\"].split()\n",
        "    sentimentos = [afinn_dict.get(palavra.lower(), 0) for palavra in palavras]\n",
        "    if sentimentos:\n",
        "        sentimentos_por_episodio[episodio].append(sum(sentimentos) / len(sentimentos))\n",
        "\n",
        "# Criar listas ordenadas para o gráfico\n",
        "episodios = sorted(sentimentos_por_episodio.keys())\n",
        "valores = [sum(sentimentos_por_episodio[ep]) / len(sentimentos_por_episodio[ep]) for ep in episodios]\n",
        "\n",
        "# Plotando gráfico\n",
        "plt.figure(figsize=(12, 6))\n",
        "sns.lineplot(x=range(len(episodios)), y=valores, marker=\"o\", color=\"blue\")\n",
        "plt.xticks(range(len(episodios)), [f\"S{ep[0]}E{ep[1]}\" for ep in episodios], rotation=90)\n",
        "plt.title(\"Evolução do Sentimento por Episódio (Afinn)\")\n",
        "plt.xlabel(\"Episódio\")\n",
        "plt.ylabel(\"Sentimento Médio\")\n",
        "plt.grid()\n",
        "plt.show()\n",
        "\n",
        "\n",
        "\n"
      ],
      "metadata": {
        "trusted": true,
        "execution": {
          "iopub.status.busy": "2025-03-05T19:39:52.362511Z",
          "iopub.execute_input": "2025-03-05T19:39:52.363294Z",
          "iopub.status.idle": "2025-03-05T19:39:52.721332Z",
          "shell.execute_reply.started": "2025-03-05T19:39:52.363259Z",
          "shell.execute_reply": "2025-03-05T19:39:52.720351Z"
        },
        "id": "SmlJsA6LDQNb"
      },
      "outputs": [],
      "execution_count": null
    },
    {
      "cell_type": "markdown",
      "source": [
        "## 🎭 2. Análise de Emoções por Personagem (NRC)\n",
        "\n",
        "📌 Gráfico de barras mostrando a quantidade de palavras associadas a cada emoção por personagem."
      ],
      "metadata": {
        "id": "JCwNjE5YDQNc"
      }
    },
    {
      "cell_type": "code",
      "source": [
        "# Carregar o dataset NRC\n",
        "with open(\"../input/categorizao-de-sentimentos/NRC.csv\", encoding=\"utf-8\") as f:\n",
        "    nrc = list(csv.DictReader(f))\n",
        "\n",
        "# Criar dicionário do NRC\n",
        "nrc_dict = defaultdict(list)\n",
        "for linha in nrc:\n",
        "    nrc_dict[linha[\"word\"]].append(linha[\"sentiment\"])\n",
        "\n",
        "# Contar emoções por personagem\n",
        "emocao_personagem = defaultdict(lambda: defaultdict(int))\n",
        "\n",
        "for linha in scripts:\n",
        "    personagem = linha[\"name\"]\n",
        "    palavras = linha[\"line\"].split()\n",
        "    for palavra in palavras:\n",
        "        if palavra.lower() in nrc_dict:\n",
        "            for emocao in nrc_dict[palavra.lower()]:\n",
        "                emocao_personagem[personagem][emocao] += 1\n",
        "\n",
        "# Filtrar personagens com mais falas\n",
        "top_personagens = sorted(emocao_personagem.keys(), key=lambda x: sum(emocao_personagem[x].values()), reverse=True)[:10]\n",
        "\n",
        "# Criar listas para plot\n",
        "personagens = []\n",
        "emoções = []\n",
        "valores = []\n",
        "\n",
        "for personagem in top_personagens:\n",
        "    for emocao, valor in emocao_personagem[personagem].items():\n",
        "        personagens.append(personagem)\n",
        "        emoções.append(emocao)\n",
        "        valores.append(valor)\n",
        "\n",
        "# Criar gráfico\n",
        "plt.figure(figsize=(14, 6))\n",
        "sns.barplot(x=personagens, y=valores, hue=emoções, palette=\"viridis\")\n",
        "plt.title(\"Distribuição de Emoções por Personagem (NRC)\")\n",
        "plt.xlabel(\"Personagem\")\n",
        "plt.ylabel(\"Frequência\")\n",
        "plt.legend(title=\"Emoções\", bbox_to_anchor=(1.05, 1))\n",
        "plt.show()\n"
      ],
      "metadata": {
        "trusted": true,
        "execution": {
          "iopub.status.busy": "2025-03-05T19:42:51.452159Z",
          "iopub.execute_input": "2025-03-05T19:42:51.452502Z",
          "iopub.status.idle": "2025-03-05T19:42:52.224964Z",
          "shell.execute_reply.started": "2025-03-05T19:42:51.452478Z",
          "shell.execute_reply": "2025-03-05T19:42:52.223819Z"
        },
        "id": "4msWU3lmDQNc"
      },
      "outputs": [],
      "execution_count": null
    },
    {
      "cell_type": "markdown",
      "source": [
        "## 🎙 3. Personagem com Mais Falas Positivas e Negativas (Bing)\n",
        "\n",
        "📌 Gráfico de barras comparando quais personagens tiveram mais falas positivas e negativas."
      ],
      "metadata": {
        "id": "Wl2UIafHDQNc"
      }
    },
    {
      "cell_type": "code",
      "source": [
        "# Carregar o dataset Bing\n",
        "with open(\"../input/categorizao-de-sentimentos/Bing.csv\", encoding=\"utf-8\") as f:\n",
        "    bing = list(csv.DictReader(f))\n",
        "\n",
        "# Criar dicionário do Bing\n",
        "bing_dict = {linha[\"word\"]: linha[\"sentiment\"] for linha in bing}\n",
        "\n",
        "# Contar falas positivas e negativas por personagem\n",
        "sentimento_personagem = defaultdict(lambda: {\"positive\": 0, \"negative\": 0})\n",
        "\n",
        "for linha in scripts:\n",
        "    personagem = linha[\"name\"]\n",
        "    palavras = linha[\"line\"].split()\n",
        "    for palavra in palavras:\n",
        "        sentimento = bing_dict.get(palavra.lower())\n",
        "        if sentimento:\n",
        "            sentimento_personagem[personagem][sentimento] += 1\n",
        "\n",
        "# Ordenar por quantidade total de falas\n",
        "top_personagens = sorted(sentimento_personagem.keys(), key=lambda x: sum(sentimento_personagem[x].values()), reverse=True)[:10]\n",
        "\n",
        "# Criar listas para plot\n",
        "personagens = []\n",
        "positivos = []\n",
        "negativos = []\n",
        "\n",
        "for personagem in top_personagens:\n",
        "    personagens.append(personagem)\n",
        "    positivos.append(sentimento_personagem[personagem][\"positive\"])\n",
        "    negativos.append(sentimento_personagem[personagem][\"negative\"])\n",
        "\n",
        "# Criar gráfico de barras\n",
        "plt.figure(figsize=(12, 6))\n",
        "plt.bar(personagens, positivos, color=\"green\", label=\"Positivo\")\n",
        "plt.bar(personagens, negativos, color=\"red\", bottom=positivos, label=\"Negativo\")\n",
        "plt.title(\"Falas Positivas e Negativas por Personagem (Bing)\")\n",
        "plt.xlabel(\"Personagem\")\n",
        "plt.ylabel(\"Número de Falas\")\n",
        "plt.legend()\n",
        "plt.xticks(rotation=45)\n",
        "plt.show()\n"
      ],
      "metadata": {
        "trusted": true,
        "execution": {
          "iopub.status.busy": "2025-03-05T19:45:57.694214Z",
          "iopub.execute_input": "2025-03-05T19:45:57.695318Z",
          "iopub.status.idle": "2025-03-05T19:45:58.085702Z",
          "shell.execute_reply.started": "2025-03-05T19:45:57.695272Z",
          "shell.execute_reply": "2025-03-05T19:45:58.084525Z"
        },
        "id": "2oiKhJFYDQNc"
      },
      "outputs": [],
      "execution_count": null
    },
    {
      "cell_type": "markdown",
      "source": [
        "## 📌 4. Nuvem de Palavras das Palavras Mais Negativas e Positivas (Afinn)\n",
        "\n",
        "📌 Criar duas wordclouds – uma para palavras mais negativas e outra para mais positivas."
      ],
      "metadata": {
        "id": "IMLNoBajDQNc"
      }
    },
    {
      "cell_type": "code",
      "source": [
        "from wordcloud import WordCloud\n",
        "\n",
        "# Separar palavras negativas e positivas\n",
        "afinn_neg = {linha[\"word\"] for linha in afinn if int(linha[\"value\"]) < 0}\n",
        "afinn_pos = {linha[\"word\"] for linha in afinn if int(linha[\"value\"]) > 0}\n",
        "\n",
        "# Criar texto para wordclouds\n",
        "texto_neg = \" \".join(afinn_neg)\n",
        "texto_pos = \" \".join(afinn_pos)\n",
        "\n",
        "# Criar wordclouds\n",
        "wc_neg = WordCloud(width=600, height=300, background_color=\"black\", colormap=\"Reds\").generate(texto_neg)\n",
        "wc_pos = WordCloud(width=600, height=300, background_color=\"white\", colormap=\"Blues\").generate(texto_pos)\n",
        "\n",
        "# Plotar lado a lado\n",
        "fig, ax = plt.subplots(1, 2, figsize=(14, 6))\n",
        "ax[0].imshow(wc_neg)\n",
        "ax[0].set_title(\"Palavras Mais Negativas\")\n",
        "ax[0].axis(\"off\")\n",
        "\n",
        "ax[1].imshow(wc_pos)\n",
        "ax[1].set_title(\"Palavras Mais Positivas\")\n",
        "ax[1].axis(\"off\")\n",
        "\n",
        "plt.show()\n"
      ],
      "metadata": {
        "trusted": true,
        "execution": {
          "iopub.status.busy": "2025-03-05T19:46:53.003418Z",
          "iopub.execute_input": "2025-03-05T19:46:53.004121Z",
          "iopub.status.idle": "2025-03-05T19:46:54.614071Z",
          "shell.execute_reply.started": "2025-03-05T19:46:53.004089Z",
          "shell.execute_reply": "2025-03-05T19:46:54.612862Z"
        },
        "id": "T4jBq0ieDQNc"
      },
      "outputs": [],
      "execution_count": null
    },
    {
      "cell_type": "markdown",
      "source": [
        "# 📊 1. Evolução do Sentimento por Episódio (Afinn)\n",
        "📌 Gráfico de linha interativo mostrando a média do sentimento por episódio ao longo das temporadas."
      ],
      "metadata": {
        "id": "pFn3bpaIDQNd"
      }
    },
    {
      "cell_type": "code",
      "source": [
        "import csv\n",
        "import plotly.express as px\n",
        "from collections import defaultdict\n",
        "\n",
        "# Carregar os datasets\n",
        "with open(\"../input/roteiros-de-rick-and-morty/RickAndMortyScripts.csv\", encoding=\"utf-8\") as f:\n",
        "    scripts = list(csv.DictReader(f))\n",
        "\n",
        "with open(\"../input/categorizao-de-sentimentos/Afinn.csv\", encoding=\"ISO-8859-1\") as f:\n",
        "    afinn = list(csv.DictReader(f))\n",
        "\n",
        "# Criar dicionário do léxico Afinn\n",
        "afinn_dict = {linha[\"word\"]: int(linha[\"value\"]) for linha in afinn}\n",
        "\n",
        "# Calcular sentimento médio por episódio\n",
        "sentimentos_por_episodio = defaultdict(list)\n",
        "\n",
        "for linha in scripts:\n",
        "    episodio = f\"S{linha['season no.']}E{linha['episode no.']}\"\n",
        "    palavras = linha[\"line\"].split()\n",
        "    sentimentos = [afinn_dict.get(palavra.lower(), 0) for palavra in palavras]\n",
        "    if sentimentos:\n",
        "        sentimentos_por_episodio[episodio].append(sum(sentimentos) / len(sentimentos))\n",
        "\n",
        "# Criar listas ordenadas para o gráfico\n",
        "episodios = sorted(sentimentos_por_episodio.keys())\n",
        "valores = [sum(sentimentos_por_episodio[ep]) / len(sentimentos_por_episodio[ep]) for ep in episodios]\n",
        "\n",
        "# Criar gráfico interativo com Plotly\n",
        "fig = px.line(x=episodios, y=valores, markers=True, title=\"Evolução do Sentimento por Episódio (Afinn)\")\n",
        "fig.update_traces(line_color='blue', marker=dict(size=8))\n",
        "fig.update_layout(xaxis_title=\"Episódio\", yaxis_title=\"Sentimento Médio\", hovermode=\"x unified\")\n",
        "fig.show()\n"
      ],
      "metadata": {
        "trusted": true,
        "execution": {
          "iopub.status.busy": "2025-03-12T20:52:59.03847Z",
          "iopub.execute_input": "2025-03-12T20:52:59.038786Z",
          "iopub.status.idle": "2025-03-12T20:53:02.13816Z",
          "shell.execute_reply.started": "2025-03-12T20:52:59.038726Z",
          "shell.execute_reply": "2025-03-12T20:53:02.136773Z"
        },
        "id": "GwZTwTq8DQNd"
      },
      "outputs": [],
      "execution_count": null
    },
    {
      "cell_type": "markdown",
      "source": [
        "# 🎭 2. Análise de Emoções por Personagem (NRC)\n",
        "📌 Gráfico de barras interativo mostrando a quantidade de palavras associadas a cada emoção por personagem."
      ],
      "metadata": {
        "id": "Nb_sJKqmDQNd"
      }
    },
    {
      "cell_type": "code",
      "source": [
        "import plotly.graph_objects as go\n",
        "\n",
        "# Carregar o dataset NRC\n",
        "with open(\"../input/categorizao-de-sentimentos/NRC.csv\", encoding=\"utf-8\") as f:\n",
        "    nrc = list(csv.DictReader(f))\n",
        "\n",
        "# Criar dicionário do NRC\n",
        "nrc_dict = defaultdict(list)\n",
        "for linha in nrc:\n",
        "    nrc_dict[linha[\"word\"]].append(linha[\"sentiment\"])\n",
        "\n",
        "# Contar emoções por personagem\n",
        "emocao_personagem = defaultdict(lambda: defaultdict(int))\n",
        "\n",
        "for linha in scripts:\n",
        "    personagem = linha[\"name\"]\n",
        "    palavras = linha[\"line\"].split()\n",
        "    for palavra in palavras:\n",
        "        if palavra.lower() in nrc_dict:\n",
        "            for emocao in nrc_dict[palavra.lower()]:\n",
        "                emocao_personagem[personagem][emocao] += 1\n",
        "\n",
        "# Filtrar personagens mais falantes\n",
        "top_personagens = sorted(emocao_personagem.keys(), key=lambda x: sum(emocao_personagem[x].values()), reverse=True)[:10]\n",
        "\n",
        "# Criar dados para gráfico\n",
        "fig = go.Figure()\n",
        "for emocao in [\"joy\", \"anger\", \"fear\", \"sadness\", \"surprise\", \"trust\"]:  # Emoções principais\n",
        "    fig.add_trace(go.Bar(\n",
        "        x=top_personagens,\n",
        "        y=[emocao_personagem[personagem][emocao] for personagem in top_personagens],\n",
        "        name=emocao\n",
        "    ))\n",
        "\n",
        "# Configurar layout\n",
        "fig.update_layout(\n",
        "    title=\"Distribuição de Emoções por Personagem (NRC)\",\n",
        "    xaxis_title=\"Personagem\",\n",
        "    yaxis_title=\"Frequência\",\n",
        "    barmode=\"stack\",\n",
        "    hovermode=\"x\"\n",
        ")\n",
        "fig.show()\n"
      ],
      "metadata": {
        "trusted": true,
        "execution": {
          "iopub.status.busy": "2025-03-12T20:53:42.560439Z",
          "iopub.execute_input": "2025-03-12T20:53:42.56089Z",
          "iopub.status.idle": "2025-03-12T20:53:42.646967Z",
          "shell.execute_reply.started": "2025-03-12T20:53:42.560855Z",
          "shell.execute_reply": "2025-03-12T20:53:42.645691Z"
        },
        "id": "z9Rl3M48DQNd"
      },
      "outputs": [],
      "execution_count": null
    },
    {
      "cell_type": "markdown",
      "source": [
        "# 🎙 3. Comparação de Falas Positivas e Negativas (Bing)\n",
        "📌 Gráfico de barras interativo mostrando quais personagens tiveram mais falas positivas e negativas."
      ],
      "metadata": {
        "id": "WEXDO4NMDQNd"
      }
    },
    {
      "cell_type": "code",
      "source": [
        "# Carregar o dataset Bing\n",
        "with open(\"../input/categorizao-de-sentimentos/Bing.csv\", encoding=\"utf-8\") as f:\n",
        "    bing = list(csv.DictReader(f))\n",
        "\n",
        "# Criar dicionário do Bing\n",
        "bing_dict = {linha[\"word\"]: linha[\"sentiment\"] for linha in bing}\n",
        "\n",
        "# Contar falas positivas e negativas por personagem\n",
        "sentimento_personagem = defaultdict(lambda: {\"positive\": 0, \"negative\": 0})\n",
        "\n",
        "for linha in scripts:\n",
        "    personagem = linha[\"name\"]\n",
        "    palavras = linha[\"line\"].split()\n",
        "    for palavra in palavras:\n",
        "        sentimento = bing_dict.get(palavra.lower())\n",
        "        if sentimento:\n",
        "            sentimento_personagem[personagem][sentimento] += 1\n",
        "\n",
        "# Ordenar por número total de falas\n",
        "top_personagens = sorted(sentimento_personagem.keys(), key=lambda x: sum(sentimento_personagem[x].values()), reverse=True)[:10]\n",
        "\n",
        "# Criar gráfico interativo\n",
        "fig = go.Figure()\n",
        "\n",
        "fig.add_trace(go.Bar(\n",
        "    x=top_personagens,\n",
        "    y=[sentimento_personagem[personagem][\"positive\"] for personagem in top_personagens],\n",
        "    name=\"Positivas\",\n",
        "    marker_color=\"green\"\n",
        "))\n",
        "\n",
        "fig.add_trace(go.Bar(\n",
        "    x=top_personagens,\n",
        "    y=[sentimento_personagem[personagem][\"negative\"] for personagem in top_personagens],\n",
        "    name=\"Negativas\",\n",
        "    marker_color=\"red\"\n",
        "))\n",
        "\n",
        "fig.update_layout(\n",
        "    title=\"Falas Positivas e Negativas por Personagem (Bing)\",\n",
        "    xaxis_title=\"Personagem\",\n",
        "    yaxis_title=\"Número de Falas\",\n",
        "    barmode=\"group\",\n",
        "    hovermode=\"x\"\n",
        ")\n",
        "fig.show()\n"
      ],
      "metadata": {
        "trusted": true,
        "execution": {
          "iopub.status.busy": "2025-03-12T20:54:03.41621Z",
          "iopub.execute_input": "2025-03-12T20:54:03.416593Z",
          "iopub.status.idle": "2025-03-12T20:54:03.474455Z",
          "shell.execute_reply.started": "2025-03-12T20:54:03.416565Z",
          "shell.execute_reply": "2025-03-12T20:54:03.473331Z"
        },
        "id": "8cQbb9LEDQNd"
      },
      "outputs": [],
      "execution_count": null
    },
    {
      "cell_type": "markdown",
      "source": [
        "# ☁️ 4. Nuvem de Palavras Interativa\n",
        "📌 Gerando duas nuvens de palavras para as palavras mais negativas e positivas (Afinn)."
      ],
      "metadata": {
        "id": "whCxGN41DQNe"
      }
    },
    {
      "cell_type": "code",
      "source": [
        "from wordcloud import WordCloud\n",
        "import matplotlib.pyplot as plt\n",
        "\n",
        "# Separar palavras negativas e positivas\n",
        "afinn_neg = {linha[\"word\"] for linha in afinn if int(linha[\"value\"]) < 0}\n",
        "afinn_pos = {linha[\"word\"] for linha in afinn if int(linha[\"value\"]) > 0}\n",
        "\n",
        "# Criar texto para wordclouds\n",
        "texto_neg = \" \".join(afinn_neg)\n",
        "texto_pos = \" \".join(afinn_pos)\n",
        "\n",
        "# Criar wordclouds\n",
        "wc_neg = WordCloud(width=600, height=300, background_color=\"black\", colormap=\"Reds\").generate(texto_neg)\n",
        "wc_pos = WordCloud(width=600, height=300, background_color=\"white\", colormap=\"Blues\").generate(texto_pos)\n",
        "\n",
        "# Plotar lado a lado\n",
        "fig, ax = plt.subplots(1, 2, figsize=(14, 6))\n",
        "ax[0].imshow(wc_neg, interpolation=\"bilinear\")\n",
        "ax[0].set_title(\"Palavras Mais Negativas\")\n",
        "ax[0].axis(\"off\")\n",
        "\n",
        "ax[1].imshow(wc_pos, interpolation=\"bilinear\")\n",
        "ax[1].set_title(\"Palavras Mais Positivas\")\n",
        "ax[1].axis(\"off\")\n",
        "\n",
        "plt.show()\n"
      ],
      "metadata": {
        "trusted": true,
        "execution": {
          "iopub.status.busy": "2025-03-12T20:54:28.631268Z",
          "iopub.execute_input": "2025-03-12T20:54:28.631659Z",
          "iopub.status.idle": "2025-03-12T20:54:30.50089Z",
          "shell.execute_reply.started": "2025-03-12T20:54:28.631631Z",
          "shell.execute_reply": "2025-03-12T20:54:30.499695Z"
        },
        "id": "oILazt7sDQNe"
      },
      "outputs": [],
      "execution_count": null
    }
  ]
}